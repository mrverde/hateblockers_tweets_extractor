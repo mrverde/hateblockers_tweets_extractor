{
 "cells": [
  {
   "cell_type": "code",
   "execution_count": 11,
   "metadata": {},
   "outputs": [
    {
     "data": {
      "text/html": [
       "<style>.container { width:100% !important; }</style>"
      ],
      "text/plain": [
       "<IPython.core.display.HTML object>"
      ]
     },
     "metadata": {},
     "output_type": "display_data"
    }
   ],
   "source": [
    "import pandas as pd\n",
    "import numpy as np\n",
    "import matplotlib.pyplot as plt\n",
    "from IPython.core.display import display, HTML\n",
    "display(HTML(\"<style>.container { width:100% !important; }</style>\"))\n",
    "\n",
    "pd.options.mode.chained_assignment = None\n",
    "pd.set_option(\"display.max_columns\", None)\n",
    "\n",
    "\n",
    "columns = [\"search_term\", \"user\", \"user_name\", \"twit_id\", \"created_at\", \"favorite_count\",\n",
    "        \"retweet_count\", \"text\", \"hashtags\", \"user_mentions\",\n",
    "        \"urls\", \"in_reply_to_status_id\", \"in_reply_to_status_id_str\",\n",
    "        \"in_reply_to_user_id\", \"in_reply_to_screen_name\", \"text_range\", \"geo\", \"coordinates\"]\n",
    "\n",
    "df = pd.read_csv(\"exports/2021-10-23 - SEARCH.csv\",\n",
    "                sep=\"\\t\")\n",
    "\n",
    "df.columns = columns\n",
    "\n",
    "df = df[[\"search_term\", \"created_at\", \"favorite_count\", \"retweet_count\"]]"
   ]
  },
  {
   "cell_type": "markdown",
   "metadata": {},
   "source": [
    "# Informe diario - 23-10-2021\n",
    "\n",
    "### Total de twits extraídos"
   ]
  },
  {
   "cell_type": "code",
   "execution_count": 12,
   "metadata": {},
   "outputs": [
    {
     "name": "stdout",
     "output_type": "stream",
     "text": [
      "22560\n"
     ]
    }
   ],
   "source": [
    "print(df.shape[0])"
   ]
  },
  {
   "cell_type": "markdown",
   "metadata": {},
   "source": [
    "### Twits por término"
   ]
  },
  {
   "cell_type": "code",
   "execution_count": 13,
   "metadata": {},
   "outputs": [
    {
     "name": "stdout",
     "output_type": "stream",
     "text": [
      "cabron                    7707\n",
      "hijo de puta              5011\n",
      "marica                    2629\n",
      "zorra                     2110\n",
      "hija de puta              1574\n",
      "sarasa                    1230\n",
      "fulana                     891\n",
      "panchito                   447\n",
      "te voy a matar             192\n",
      "sudaca                     172\n",
      "bollera                    161\n",
      "ramera                     108\n",
      "panchita                    88\n",
      "sodomita                    50\n",
      "travelo                     24\n",
      "machorra                    24\n",
      "reinona                     23\n",
      "locaza                      21\n",
      "mariposon                   20\n",
      "vienen a robar              17\n",
      "marimacho                   11\n",
      "te vamos a matar             9\n",
      "puta gorda                   7\n",
      "bujarra                      5\n",
      "tiraflechas                  4\n",
      "negrata                      4\n",
      "te vamos a violar            4\n",
      "te voy a violar              4\n",
      "pierde aceite                3\n",
      "puto chino                   3\n",
      "muerte a los maricones       2\n",
      "perro judío                  2\n",
      "Vete a fregar                2\n",
      "guachupino                   1\n",
      "Name: search_term, dtype: int64\n"
     ]
    }
   ],
   "source": [
    "print(df[\"search_term\"].value_counts())"
   ]
  },
  {
   "cell_type": "markdown",
   "metadata": {},
   "source": [
    "### Twits por término por hora"
   ]
  },
  {
   "cell_type": "code",
   "execution_count": 14,
   "metadata": {},
   "outputs": [
    {
     "name": "stdout",
     "output_type": "stream",
     "text": [
      "                       n_twits                                              \\\n",
      "hour                        0    1    2    3    4    5    6    7    8   9    \n",
      "search_term                                                                  \n",
      "Vete a fregar                0    0    0    0    0    0    0    0    0   0   \n",
      "bollera                      3    1    0    1    3    0    7    2   10   9   \n",
      "bujarra                      0    0    0    0    0    0    0    0    0   0   \n",
      "cabron                     334  386  509  418  369  289  187  133  123  99   \n",
      "fulana                      46   46   31   32   30   14   11    4    5  10   \n",
      "guachupino                   0    0    0    0    0    0    0    0    0   0   \n",
      "hija de puta               104  102  102  100   55   30   21   18   18  16   \n",
      "hijo de puta               467  441  398  241  172   81   51   51   40  45   \n",
      "locaza                       0    0    2    0    2    1    1    1    0   1   \n",
      "machorra                     1    2    2    4    0    1    0    0    1   0   \n",
      "marica                     139  164  199  184  152   84   28   26   33  35   \n",
      "marimacho                    1    0    0    0    0    1    0    0    2   0   \n",
      "mariposon                    1    0    2    3    0    0    0    0    0   0   \n",
      "muerte a los maricones       0    0    0    0    0    0    0    0    0   0   \n",
      "negrata                      0    0    1    0    0    0    0    0    0   0   \n",
      "panchita                     2    7    5    6    4    0    2    4    1   1   \n",
      "panchito                    33   25   24   15   19    3    6    3    0  10   \n",
      "perro judío                  0    0    0    0    0    0    0    0    1   0   \n",
      "pierde aceite                0    0    0    0    0    0    0    0    0   0   \n",
      "puta gorda                   1    0    1    0    2    0    0    0    0   0   \n",
      "puto chino                   0    0    0    0    0    0    0    1    0   0   \n",
      "ramera                       5    1    4    8    5    4    2    2    0   0   \n",
      "reinona                      2    0    0    0    1    0    0    0    1   1   \n",
      "sarasa                      25   55   41   71   70   28   22   21   62  43   \n",
      "sodomita                     3    2    3    2    2    0    1    0    1   0   \n",
      "sudaca                      15   11    6    7    6    3    2    2    0   2   \n",
      "te vamos a matar             0    0    1    0    0    0    0    0    0   0   \n",
      "te vamos a violar            0    1    0    0    0    0    0    0    0   1   \n",
      "te voy a matar               7   15   16   11    7    5    2    3    2   2   \n",
      "te voy a violar              0    0    0    0    0    0    0    0    0   0   \n",
      "tiraflechas                  0    0    0    0    0    1    0    0    0   0   \n",
      "travelo                      0    0    0    2    1    0    2    3    0   1   \n",
      "vienen a robar               0    2    0    1    2    0    0    0    2   1   \n",
      "zorra                      126  118  123  110   77   44   44   32   26  44   \n",
      "\n",
      "                                                                               \\\n",
      "hour                     10   11   12   13   14   15   16   17   18   19   20   \n",
      "search_term                                                                     \n",
      "Vete a fregar             1    0    0    0    0    0    0    0    0    1    0   \n",
      "bollera                   9   13   13    5    7    6    4    6   10    5    9   \n",
      "bujarra                   0    0    1    1    0    0    1    0    0    0    0   \n",
      "cabron                  138  162  243  307  369  384  438  433  387  440  397   \n",
      "fulana                   39   36   43   47   56   67   36   64   56   53   38   \n",
      "guachupino                0    0    0    0    0    0    0    0    0    0    0   \n",
      "hija de puta             32   43   49   66   70   79  110   94   80   74   68   \n",
      "hijo de puta             72  137  177  231  215  229  204  218  210  249  236   \n",
      "locaza                    0    0    0    1    2    1    1    3    2    0    0   \n",
      "machorra                  1    0    0    0    0    1    0    1    2    2    2   \n",
      "marica                   44   72  102  116  120  150  118  126  136  115  133   \n",
      "marimacho                 1    0    0    1    1    1    0    0    0    1    0   \n",
      "mariposon                 0    1    0    0    1    2    0    0    4    2    0   \n",
      "muerte a los maricones    0    0    0    0    0    0    0    1    1    0    0   \n",
      "negrata                   0    0    0    0    0    1    0    0    0    0    2   \n",
      "panchita                  2    2    1    8    4    5    3    4    3    1    6   \n",
      "panchito                  8   20   23   27   15   11   17   26   42   18   20   \n",
      "perro judío               0    1    0    0    0    0    0    0    0    0    0   \n",
      "pierde aceite             0    2    1    0    0    0    0    0    0    0    0   \n",
      "puta gorda                0    0    0    1    2    0    0    0    0    0    0   \n",
      "puto chino                0    0    0    0    0    0    0    0    0    0    1   \n",
      "ramera                    1    6    2    8   10   11    4    4    3    6    7   \n",
      "reinona                   2    0    0    1    1    1    2    0    3    0    1   \n",
      "sarasa                   67   52  100  149   82   52   36   31   25   11   38   \n",
      "sodomita                  2    3    7    1    5    2    6    0    0    1    3   \n",
      "sudaca                    2    4    5    9   10    8   11   11    8   13    7   \n",
      "te vamos a matar          0    0    2    0    0    0    2    0    1    1    0   \n",
      "te vamos a violar         0    0    0    0    0    0    0    0    0    0    1   \n",
      "te voy a matar            1    4    6   13    9    7    9    7    9   11   11   \n",
      "te voy a violar           0    0    0    0    0    0    1    0    2    1    0   \n",
      "tiraflechas               2    0    0    0    0    0    0    0    0    1    0   \n",
      "travelo                   1    1    1    0    0    1    3    0    1    2    2   \n",
      "vienen a robar            0    0    2    0    2    1    0    1    0    0    1   \n",
      "zorra                    51   60   77  102  102   92  131  108  106  110  124   \n",
      "\n",
      "                                       \n",
      "hour                     21   22   23  \n",
      "search_term                            \n",
      "Vete a fregar             0    0    0  \n",
      "bollera                  17   13    8  \n",
      "bujarra                   1    0    1  \n",
      "cabron                  418  399  345  \n",
      "fulana                   46   31   50  \n",
      "guachupino                1    0    0  \n",
      "hija de puta            109   57   77  \n",
      "hijo de puta            252  311  283  \n",
      "locaza                    1    0    2  \n",
      "machorra                  2    2    0  \n",
      "marica                  134  107  112  \n",
      "marimacho                 0    1    1  \n",
      "mariposon                 1    1    2  \n",
      "muerte a los maricones    0    0    0  \n",
      "negrata                   0    0    0  \n",
      "panchita                  7    7    3  \n",
      "panchito                 23   39   20  \n",
      "perro judío               0    0    0  \n",
      "pierde aceite             0    0    0  \n",
      "puta gorda                0    0    0  \n",
      "puto chino                1    0    0  \n",
      "ramera                    7    3    5  \n",
      "reinona                   2    3    2  \n",
      "sarasa                   42   53   54  \n",
      "sodomita                  2    2    2  \n",
      "sudaca                    5   14   11  \n",
      "te vamos a matar          1    0    1  \n",
      "te vamos a violar         0    0    1  \n",
      "te voy a matar           10   10   15  \n",
      "te voy a violar           0    0    0  \n",
      "tiraflechas               0    0    0  \n",
      "travelo                   1    0    2  \n",
      "vienen a robar            2    0    0  \n",
      "zorra                   107   96  100  \n"
     ]
    }
   ],
   "source": [
    "df_hour = df[[\"search_term\", \"created_at\"]]\n",
    "df_hour.columns = [\"search_term\", \"hour\"]\n",
    "df_hour.iloc[:, 1] = df_hour.iloc[:, 1].str[11:13].astype(int)\n",
    "df_hour[\"n_twits\"] = 1\n",
    "df_hour = pd.pivot_table(df_hour, index=['search_term'], columns=[\n",
    "                        'hour'], aggfunc=np.sum)\n",
    "df_hour = df_hour.fillna(0)\n",
    "df_hour = df_hour.astype(int)\n",
    "print(df_hour)"
   ]
  },
  {
   "cell_type": "markdown",
   "metadata": {},
   "source": [
    "### Retwits y favoritos por término "
   ]
  },
  {
   "cell_type": "code",
   "execution_count": 15,
   "metadata": {},
   "outputs": [
    {
     "name": "stdout",
     "output_type": "stream",
     "text": [
      "                        favorite_count  retweet_count\n",
      "search_term                                          \n",
      "Vete a fregar                        1              0\n",
      "bollera                            715             87\n",
      "bujarra                            826            151\n",
      "cabron                           17029           1538\n",
      "fulana                            4279            559\n",
      "guachupino                           1              0\n",
      "hija de puta                      2089            230\n",
      "hijo de puta                     12732           1147\n",
      "locaza                              12              2\n",
      "machorra                            23              2\n",
      "marica                            5627            463\n",
      "marimacho                           34              2\n",
      "mariposon                           13              1\n",
      "muerte a los maricones               2              0\n",
      "negrata                             19              3\n",
      "panchita                            96              5\n",
      "panchito                          1476             87\n",
      "perro judío                          4              0\n",
      "pierde aceite                        3              0\n",
      "puta gorda                          10              1\n",
      "puto chino                           1              0\n",
      "ramera                             213             51\n",
      "reinona                             42              3\n",
      "sarasa                            3188            373\n",
      "sodomita                           118              5\n",
      "sudaca                             666            182\n",
      "te vamos a matar                    10              7\n",
      "te vamos a violar                   19              1\n",
      "te voy a matar                     215              5\n",
      "te voy a violar                    170             14\n",
      "tiraflechas                          3              1\n",
      "travelo                             28              0\n",
      "vienen a robar                     197            156\n",
      "zorra                             3882            382\n"
     ]
    }
   ],
   "source": [
    "print(df[[\"search_term\", \"favorite_count\", \"retweet_count\"]].groupby([\"search_term\"]).sum())"
   ]
  }
 ],
 "metadata": {
  "interpreter": {
   "hash": "930cc33d811c31d4512097081e8a5623adad22ec3b651699b0b27772ec6f1dcd"
  },
  "kernelspec": {
   "display_name": "Python 3",
   "language": "python",
   "name": "python3"
  },
  "language_info": {
   "codemirror_mode": {
    "name": "ipython",
    "version": 3
   },
   "file_extension": ".py",
   "mimetype": "text/x-python",
   "name": "python",
   "nbconvert_exporter": "python",
   "pygments_lexer": "ipython3",
   "version": "3.8.10"
  }
 },
 "nbformat": 4,
 "nbformat_minor": 2
}
